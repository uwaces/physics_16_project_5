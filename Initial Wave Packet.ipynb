{
 "cells": [
  {
   "cell_type": "markdown",
   "metadata": {},
   "source": [
    "# Initial Wave-Packet"
   ]
  },
  {
   "cell_type": "code",
   "execution_count": null,
   "metadata": {},
   "outputs": [],
   "source": [
    "def initial_wavepacket(xs, x0 = 0, k0 = 0, sigma = 10):\n",
    "    def wavepacket(x):\n",
    "        np.exp(-(x-x0) * (4*1j*k0 + (x0 - x) * sigma**2)*np.sqrt(np.pi)*sigma) / np.sqrt(np.sqrt(2)*np.pi**(3/2) * sigma)\n",
    "   #TODO map this wavepacket"
   ]
  }
 ],
 "metadata": {
  "kernelspec": {
   "display_name": "Python 3",
   "language": "python",
   "name": "python3"
  },
  "language_info": {
   "codemirror_mode": {
    "name": "ipython",
    "version": 3
   },
   "file_extension": ".py",
   "mimetype": "text/x-python",
   "name": "python",
   "nbconvert_exporter": "python",
   "pygments_lexer": "ipython3",
   "version": "3.7.1"
  }
 },
 "nbformat": 4,
 "nbformat_minor": 2
}
